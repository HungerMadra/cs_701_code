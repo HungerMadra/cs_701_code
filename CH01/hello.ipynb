{
 "cells": [
  {
   "cell_type": "markdown",
   "metadata": {},
   "source": [
    "# My First Python Code \n",
    "\n",
    "I wonder what happens when you type uncommented things here. Kinda like you would with a notebook. \n",
    "Rule Number 1: Dont use a \"comment\" hash \"#\", lets see what happens. \n",
    "How do i get thing on a new line ... does /n work ? "
   ]
  },
  {
   "cell_type": "code",
   "execution_count": 1,
   "metadata": {},
   "outputs": [
    {
     "name": "stdout",
     "output_type": "stream",
     "text": [
      "Hello World\n",
      "Adding git\n",
      "check env variable\n"
     ]
    }
   ],
   "source": [
    "print ('Hello World')\n",
    "print ('Adding git')\n",
    "print ('check env variable')\n"
   ]
  },
  {
   "cell_type": "markdown",
   "metadata": {},
   "source": [
    "I've got to admit that this is a really cool way to design, I've been sleeping on python and Jupyter Notebooks. #ToDo Figure out how to start new line of text "
   ]
  },
  {
   "cell_type": "markdown",
   "metadata": {},
   "source": [
    "Lets see if this works.  \n",
    "This should be a new line.  \n",
    "YAY !!! ... IT WORKS !  \n",
    "\n"
   ]
  }
 ],
 "metadata": {
  "kernelspec": {
   "display_name": "Python 3",
   "language": "python",
   "name": "python3"
  },
  "language_info": {
   "codemirror_mode": {
    "name": "ipython",
    "version": 3
   },
   "file_extension": ".py",
   "mimetype": "text/x-python",
   "name": "python",
   "nbconvert_exporter": "python",
   "pygments_lexer": "ipython3",
   "version": "3.11.9"
  }
 },
 "nbformat": 4,
 "nbformat_minor": 2
}
