{
 "cells": [
  {
   "cell_type": "markdown",
   "metadata": {},
   "source": [
    "# Loops\n",
    "\n",
    "A loop is an instruction or set of instructions that execute repeatedly \"while\" a condition remains true. \n",
    "One such instruction is \"The WHILE loop\", example shown below \n",
    "\n",
    "# The \"WHILE\" Loop"
   ]
  },
  {
   "cell_type": "code",
   "execution_count": 6,
   "metadata": {},
   "outputs": [
    {
     "name": "stdout",
     "output_type": "stream",
     "text": [
      "42\n"
     ]
    }
   ],
   "source": [
    "balance = 10000\n",
    "target = 50000\n",
    "rate = 4\n",
    "count = 0\n",
    "while balance < target:\n",
    "    interest = balance * rate/100\n",
    "    balance = balance + interest\n",
    "    count = count + 1\n",
    "print (count)"
   ]
  },
  {
   "cell_type": "markdown",
   "metadata": {},
   "source": [
    "# Sentinel Values\n",
    "The above code will execute continously until the below is no longer true\n",
    "\n",
    "\"balance < target\"\n",
    "\n",
    "The above statement is called a \"Sentinel Value\" \n",
    "\n",
    "# Priming \"Read\"\n",
    "\n",
    "Some programmers prefer to use a \"priming Read\" in place of a sentinel value. In this scenario an input read from the user denotes the end of the data set, but is not a part of the data. \n",
    "\n",
    "# Modification Read \n",
    "\n",
    "Similar to a \"Priming Read\" but is used at the bottom of the loop to obtain the next input \n",
    "\n",
    "In the below coding example, I will implement both a \"Priming Read\" and a \"Modification Read\"\n",
    "\n"
   ]
  },
  {
   "cell_type": "code",
   "execution_count": 7,
   "metadata": {},
   "outputs": [],
   "source": [
    "salary = float (input (\"Enter A Salary Or, Enter -1 To Exit: \")) # This is a priming Read\n",
    "count = 0\n",
    "total = 0\n",
    "while salary >= 0 and salary != -1:\n",
    "    total = total + salary\n",
    "    count = count + 1\n",
    "    print (salary)\n",
    "    print (\"Total =\",total)\n",
    "    salary = float (input (\"Enter A Salary Or, Enter -1 To Exit: \")) # This is a modification Read\n"
   ]
  },
  {
   "cell_type": "markdown",
   "metadata": {},
   "source": [
    "# The For Loop \n",
    "\n",
    "The \"for\" loop can be used to iterate ovr the contents of any container. A container is an object that cotains a colection of elements.\n",
    "\n",
    "Lets apply the for loop to out interest rate code from earlier in chapter 4\n",
    "\n",
    "# While loop method\n",
    "\n",
    "RATE = 5\n",
    "INITIAL_BALANCE = 10000\n",
    "TARGET = 2 * INITIAL_BALANCE\n",
    "balance = INITIAL_BALANCE\n",
    "year = 0\n",
    "\n",
    "while balance < TARGET:\n",
    "    interest = RATE/100 * balance\n",
    "    balance = balance + interest\n",
    "    year += 1\n",
    "print (year)\n",
    "\n",
    "# For loop method"
   ]
  },
  {
   "cell_type": "code",
   "execution_count": null,
   "metadata": {},
   "outputs": [],
   "source": [
    "RATE = 5\n",
    "INITIAL_BALANCE = 10000\n",
    "balance = INITIAL_BALANCE\n",
    "year = 0\n",
    "target = int (input (\"How many years will you like to accrue interest: \"))\n",
    "for i in range (1, target + 1):\n",
    "    interest = RATE/100 * balance\n",
    "    balance = balance + interest\n",
    "    i + 1\n",
    "print (balance)\n"
   ]
  },
  {
   "cell_type": "markdown",
   "metadata": {},
   "source": [
    "# Nested \"For\" Loops \n",
    "\n",
    "Scenarios where we have one or more \"For\" loop nested within another \"For\" loop"
   ]
  }
 ],
 "metadata": {
  "kernelspec": {
   "display_name": "Python 3",
   "language": "python",
   "name": "python3"
  },
  "language_info": {
   "codemirror_mode": {
    "name": "ipython",
    "version": 3
   },
   "file_extension": ".py",
   "mimetype": "text/x-python",
   "name": "python",
   "nbconvert_exporter": "python",
   "pygments_lexer": "ipython3",
   "version": "3.11.9"
  }
 },
 "nbformat": 4,
 "nbformat_minor": 2
}
