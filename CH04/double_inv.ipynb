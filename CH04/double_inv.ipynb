{
 "cells": [
  {
   "cell_type": "markdown",
   "metadata": {},
   "source": [
    "Here is a code block that demonstrates a while loop "
   ]
  },
  {
   "cell_type": "code",
   "execution_count": 35,
   "metadata": {},
   "outputs": [],
   "source": [
    "RATE = 5\n",
    "INITIAL_BALANCE = 10000\n",
    "TARGET = 2 * INITIAL_BALANCE\n",
    "balance = INITIAL_BALANCE\n",
    "year = 0\n"
   ]
  },
  {
   "cell_type": "markdown",
   "metadata": {},
   "source": [
    "We hahve initialized the RATES, INITIAL BALALNCE and TARGET as constants\n",
    "which basically is a signal to us that we do not want to manually re-assign those variables \n",
    "Now lets write our code "
   ]
  },
  {
   "cell_type": "code",
   "execution_count": 36,
   "metadata": {},
   "outputs": [
    {
     "name": "stdout",
     "output_type": "stream",
     "text": [
      "15\n"
     ]
    }
   ],
   "source": [
    "while balance < TARGET:\n",
    "    interest = RATE/100 * balance\n",
    "    balance = balance + interest\n",
    "    year += 1\n",
    "print (year)"
   ]
  }
 ],
 "metadata": {
  "kernelspec": {
   "display_name": "Python 3",
   "language": "python",
   "name": "python3"
  },
  "language_info": {
   "codemirror_mode": {
    "name": "ipython",
    "version": 3
   },
   "file_extension": ".py",
   "mimetype": "text/x-python",
   "name": "python",
   "nbconvert_exporter": "python",
   "pygments_lexer": "ipython3",
   "version": "3.11.9"
  }
 },
 "nbformat": 4,
 "nbformat_minor": 2
}
