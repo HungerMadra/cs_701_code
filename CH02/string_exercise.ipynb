{
 "cells": [
  {
   "cell_type": "markdown",
   "metadata": {},
   "source": [
    "String Manipulation\n",
    "\n",
    "A string is a collection of ASCII/Unicode characters.\n",
    "Strings are usually enclosed in single quotes '' or double quotes\n",
    "Here is an example of a string "
   ]
  },
  {
   "cell_type": "code",
   "execution_count": 7,
   "metadata": {},
   "outputs": [],
   "source": [
    "name = 'Robi'"
   ]
  },
  {
   "cell_type": "markdown",
   "metadata": {},
   "source": [
    "String Functions \n",
    "\n",
    "We can manipulate strings using some in-built functions, for example: the \"len\" function. \n",
    "The \"len\" function returns the length of a string. \n",
    "Here is an example of the \"len\" function in action"
   ]
  },
  {
   "cell_type": "code",
   "execution_count": 8,
   "metadata": {},
   "outputs": [
    {
     "name": "stdout",
     "output_type": "stream",
     "text": [
      "There are 4 letters in the name Robi\n"
     ]
    }
   ],
   "source": [
    "howManyLetters = len(name)\n",
    "print ('There are', howManyLetters, 'letters in the name', name)"
   ]
  },
  {
   "cell_type": "markdown",
   "metadata": {},
   "source": [
    "String Concatenation\n",
    "\n",
    "We can concatenate two or more strings using the adition symbol \"+\". Here's an example of that in action"
   ]
  },
  {
   "cell_type": "code",
   "execution_count": 9,
   "metadata": {},
   "outputs": [
    {
     "name": "stdout",
     "output_type": "stream",
     "text": [
      "My name is Robi Olise\n"
     ]
    }
   ],
   "source": [
    "fName = ('Robi')\n",
    "space = (\" \")\n",
    "lName = ('Olise')\n",
    "name = fName +space + lName\n",
    "print ('My name is', name)"
   ]
  },
  {
   "cell_type": "markdown",
   "metadata": {},
   "source": [
    "We can also concatenate strings and numbers. Lets take a look at an example below"
   ]
  },
  {
   "cell_type": "code",
   "execution_count": 10,
   "metadata": {},
   "outputs": [
    {
     "name": "stdout",
     "output_type": "stream",
     "text": [
      "My name is Robi Olise i am Agent 7\n"
     ]
    }
   ],
   "source": [
    "job = 'Agent'\n",
    "space = \" \"\n",
    "agentCode = 7\n",
    "print ('My name is', name,'i am', job +space + str(agentCode))"
   ]
  },
  {
   "cell_type": "markdown",
   "metadata": {},
   "source": [
    "String Replication \n",
    "\n",
    "We can cause a string to replicate itself using the multiplacation or asterisk symbol \"*\". here is an example "
   ]
  },
  {
   "cell_type": "code",
   "execution_count": 11,
   "metadata": {},
   "outputs": [
    {
     "name": "stdout",
     "output_type": "stream",
     "text": [
      "My name is Robi Olise i am Agent 7 , when I laugh politely at your joke i just go, \" he \" but if you are really funny i go,\" hehehe \"\n"
     ]
    }
   ],
   "source": [
    "laugh = 'ha'\n",
    "print ('My name is', name,'i am', job + space + str(agentCode), ', when I laugh politely at your joke i just go, \"', laugh,\n",
    "        '\" but if you are really funny i go,\"', laugh *3, '\"')"
   ]
  },
  {
   "cell_type": "markdown",
   "metadata": {},
   "source": [
    "String Conversion \n",
    "\n",
    "We can convert strings to numbers and vice versa. Here are some examples "
   ]
  },
  {
   "cell_type": "code",
   "execution_count": 12,
   "metadata": {},
   "outputs": [
    {
     "name": "stdout",
     "output_type": "stream",
     "text": [
      "This zipcode is a string 20002\n",
      "This zipcode was a string but is now an integer 20002\n"
     ]
    }
   ],
   "source": [
    "zipcode = '20002'\n",
    "print('This zipcode is a string',zipcode)\n",
    "zip = int(zipcode)\n",
    "print ('This zipcode was a string but is now an integer',zip)"
   ]
  }
 ],
 "metadata": {
  "kernelspec": {
   "display_name": "Python 3",
   "language": "python",
   "name": "python3"
  },
  "language_info": {
   "codemirror_mode": {
    "name": "ipython",
    "version": 3
   },
   "file_extension": ".py",
   "mimetype": "text/x-python",
   "name": "python",
   "nbconvert_exporter": "python",
   "pygments_lexer": "ipython3",
   "version": "3.11.9"
  }
 },
 "nbformat": 4,
 "nbformat_minor": 2
}
