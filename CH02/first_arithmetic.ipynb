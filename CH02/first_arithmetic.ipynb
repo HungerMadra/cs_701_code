{
 "cells": [
  {
   "cell_type": "markdown",
   "metadata": {},
   "source": [
    "Dollars and Cents!\n",
    "\n",
    "Lets write a simple code that converts your pennies to dollars and cents"
   ]
  },
  {
   "cell_type": "markdown",
   "metadata": {},
   "source": [
    "#Step 1:\n",
    "\n",
    "Define your variables "
   ]
  },
  {
   "cell_type": "code",
   "execution_count": 9,
   "metadata": {},
   "outputs": [],
   "source": [
    "pennies = 1982\n",
    "dollars = 100\n",
    "cents = pennies % 100"
   ]
  },
  {
   "cell_type": "markdown",
   "metadata": {},
   "source": [
    "#Step 2:\n",
    "\n",
    "Do you arithmethic operation in a print statement to figure out the correct dollar and cent conversion "
   ]
  },
  {
   "cell_type": "code",
   "execution_count": 10,
   "metadata": {},
   "outputs": [
    {
     "name": "stdout",
     "output_type": "stream",
     "text": [
      "you have 19 dollars and 82 cents\n"
     ]
    }
   ],
   "source": [
    "print('you have', pennies // dollars, 'dollars and', cents, 'cents')"
   ]
  }
 ],
 "metadata": {
  "kernelspec": {
   "display_name": "Python 3",
   "language": "python",
   "name": "python3"
  },
  "language_info": {
   "codemirror_mode": {
    "name": "ipython",
    "version": 3
   },
   "file_extension": ".py",
   "mimetype": "text/x-python",
   "name": "python",
   "nbconvert_exporter": "python",
   "pygments_lexer": "ipython3",
   "version": "3.11.9"
  }
 },
 "nbformat": 4,
 "nbformat_minor": 2
}
