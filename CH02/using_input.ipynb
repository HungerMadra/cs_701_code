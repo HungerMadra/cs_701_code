{
 "cells": [
  {
   "cell_type": "markdown",
   "metadata": {},
   "source": [
    "# Input and Output \n",
    "\n",
    "We are going to implement standard input and output functionality uysing our \"string_exercises.py\" file examples. \n",
    "Doing this should make for a more user interactive program. \n",
    "To collect user input in out code, we use the command \"input(\"x\").\n",
    "User input are generally stored as strings, but we can cast strings to integers or other variable types. \n",
    "\n",
    "\n"
   ]
  },
  {
   "cell_type": "markdown",
   "metadata": {},
   "source": [
    "Remember : String Manipulation\n",
    "\n",
    "A string is a collection of ASCII/Unicode characters.\n",
    "Strings are usually enclosed in single quotes '' or double quotes\n",
    "Here is an example of a string."
   ]
  },
  {
   "cell_type": "code",
   "execution_count": 1,
   "metadata": {},
   "outputs": [
    {
     "name": "stdout",
     "output_type": "stream",
     "text": [
      "Nice to meet you Robi :-)\n",
      "Now I know your full name Robi Olise :-)\n"
     ]
    }
   ],
   "source": [
    "fName = input(\"Please enter your first name\")\n",
    "space = \" \"\n",
    "print ('Nice to meet you ' + fName, ':-)')\n",
    "lName = input(\"Please enter your last name\")\n",
    "print ('Now I know your full name', fName + space + lName, ':-)')"
   ]
  },
  {
   "cell_type": "markdown",
   "metadata": {},
   "source": [
    "Lets do some string conversion on inputs and then output our converted variables \n",
    "\n",
    "Remember: String Conversion \n",
    "\n",
    "We can convert strings to numbers and vice versa. Here are some examples "
   ]
  },
  {
   "cell_type": "code",
   "execution_count": 2,
   "metadata": {},
   "outputs": [
    {
     "name": "stdout",
     "output_type": "stream",
     "text": [
      "you are 24 years old\n"
     ]
    }
   ],
   "source": [
    "age = input(\"How old are you\" + fName)\n",
    "ageToInt = int(age)\n",
    "print ('you are', ageToInt, 'years old')"
   ]
  }
 ],
 "metadata": {
  "kernelspec": {
   "display_name": "Python 3",
   "language": "python",
   "name": "python3"
  },
  "language_info": {
   "codemirror_mode": {
    "name": "ipython",
    "version": 3
   },
   "file_extension": ".py",
   "mimetype": "text/x-python",
   "name": "python",
   "nbconvert_exporter": "python",
   "pygments_lexer": "ipython3",
   "version": "3.11.9"
  }
 },
 "nbformat": 4,
 "nbformat_minor": 2
}
