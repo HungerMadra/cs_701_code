{
 "cells": [
  {
   "cell_type": "markdown",
   "metadata": {},
   "source": [
    "# Logic Programming \n",
    "\n",
    "In python we can determine programme execution and flow using statements that enforce logic programming \n",
    "\n",
    "# \"If, Else\" Statements \n",
    "\n",
    "An example of such a statement is an \"if, else\" statement. \n",
    "\n",
    "Example below"
   ]
  },
  {
   "cell_type": "code",
   "execution_count": 5,
   "metadata": {},
   "outputs": [
    {
     "name": "stdout",
     "output_type": "stream",
     "text": [
      "Go to work, Robi!\n"
     ]
    }
   ],
   "source": [
    "# Get user input for the day\n",
    "day = input(\"Enter the day of the week: \")\n",
    "weekend = \"Friday\"\n",
    "\n",
    "# Check if the input is Friday, Saturday, or Sunday\n",
    "if day in weekend:\n",
    "    print(\"TGIF !!\")\n",
    "else:\n",
    "    print(\"Go to work, Robi!\")"
   ]
  }
 ],
 "metadata": {
  "kernelspec": {
   "display_name": "Python 3",
   "language": "python",
   "name": "python3"
  },
  "language_info": {
   "codemirror_mode": {
    "name": "ipython",
    "version": 3
   },
   "file_extension": ".py",
   "mimetype": "text/x-python",
   "name": "python",
   "nbconvert_exporter": "python",
   "pygments_lexer": "ipython3",
   "version": "3.11.9"
  }
 },
 "nbformat": 4,
 "nbformat_minor": 2
}
