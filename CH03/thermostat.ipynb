{
 "cells": [
  {
   "cell_type": "markdown",
   "metadata": {},
   "source": [
    "# Summer Thermostat Auto Control \n",
    "\n",
    "Suppose a string variable season holds the current season, a float variable temperature holds the current temperature, and a boolean variable air_conditioner indicates if the air conditioner is on. Write a Python program that, if the season is \"summer\", then if the temperature is above 72 it should set air_conditioner to True and  otherwise set it to False."
   ]
  },
  {
   "cell_type": "markdown",
   "metadata": {},
   "source": [
    "# Define Variables\n",
    "\n",
    "Except for the \"season\" variable, We'll choose not to initialize our variables with values just use type hinting instead "
   ]
  },
  {
   "cell_type": "code",
   "execution_count": 1,
   "metadata": {},
   "outputs": [],
   "source": [
    "currentTemperature: float\n",
    "airConditioner: bool\n",
    "season = (\"Spring\", \"Summer\", \"Fall\", \"Winter\")"
   ]
  },
  {
   "cell_type": "markdown",
   "metadata": {},
   "source": [
    "# User Input \n",
    "\n",
    "To make this interactive lets take some user input (We'll ignore all but the most basic error handling, as that is not a requirement)"
   ]
  },
  {
   "cell_type": "code",
   "execution_count": 2,
   "metadata": {},
   "outputs": [],
   "source": [
    "currentTemperature = float (input (\"Please enter current temperature\"))\n",
    "enterSeason = input (\"please enter season\")"
   ]
  },
  {
   "cell_type": "markdown",
   "metadata": {},
   "source": [
    "# Condiitonal Statement Logic\n",
    "\n",
    "We'll use an if else statement to handle logic for the operation of the thermostat"
   ]
  },
  {
   "cell_type": "code",
   "execution_count": 3,
   "metadata": {},
   "outputs": [
    {
     "name": "stdout",
     "output_type": "stream",
     "text": [
      "airConditioner On\n"
     ]
    }
   ],
   "source": [
    "if enterSeason == \"Summer\" and currentTemperature >72:\n",
    "    airConditioner = True\n",
    "    print (\"airConditioner On\")\n",
    "else :\n",
    "    airConditioner = False\n",
    "    print (\"airConditioner Off\")"
   ]
  },
  {
   "cell_type": "markdown",
   "metadata": {},
   "source": []
  }
 ],
 "metadata": {
  "kernelspec": {
   "display_name": "Python 3",
   "language": "python",
   "name": "python3"
  },
  "language_info": {
   "codemirror_mode": {
    "name": "ipython",
    "version": 3
   },
   "file_extension": ".py",
   "mimetype": "text/x-python",
   "name": "python",
   "nbconvert_exporter": "python",
   "pygments_lexer": "ipython3",
   "version": "3.11.9"
  }
 },
 "nbformat": 4,
 "nbformat_minor": 2
}
